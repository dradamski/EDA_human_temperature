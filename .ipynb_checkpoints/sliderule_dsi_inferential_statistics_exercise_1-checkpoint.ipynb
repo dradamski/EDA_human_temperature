{
 "cells": [
  {
   "cell_type": "markdown",
   "metadata": {},
   "source": [
    "# What is the True Normal Human Body Temperature? \n",
    "\n",
    "#### Background\n",
    "\n",
    "The mean normal body temperature was held to be 37$^{\\circ}$C or 98.6$^{\\circ}$F for more than 120 years since it was first conceptualized and reported by Carl Wunderlich in a famous 1868 book. But, is this value statistically correct?"
   ]
  },
  {
   "cell_type": "markdown",
   "metadata": {},
   "source": [
    "<h3>Exercises</h3>\n",
    "\n",
    "<p>In this exercise, you will analyze a dataset of human body temperatures and employ the concepts of hypothesis testing, confidence intervals, and statistical significance.</p>\n",
    "\n",
    "<p>Answer the following questions <b>in this notebook below and submit to your Github account</b>.</p> \n",
    "\n",
    "<ol>\n",
    "<li>  Is the distribution of body temperatures normal? \n",
    "    <ul>\n",
    "    <li> Although this is not a requirement for the Central Limit Theorem to hold (read the introduction on Wikipedia's page about the CLT carefully: https://en.wikipedia.org/wiki/Central_limit_theorem), it gives us some peace of mind that the population may also be normally distributed if we assume that this sample is representative of the population.\n",
    "    <li> Think about the way you're going to check for the normality of the distribution. Graphical methods are usually used first, but there are also other ways: https://en.wikipedia.org/wiki/Normality_test\n",
    "    </ul>\n",
    "<li>  Is the sample size large? Are the observations independent?\n",
    "    <ul>\n",
    "    <li> Remember that this is a condition for the Central Limit Theorem, and hence the statistical tests we are using, to apply.\n",
    "    </ul>\n",
    "<li>  Is the true population mean really 98.6 degrees F?\n",
    "    <ul>\n",
    "    <li> First, try a bootstrap hypothesis test.\n",
    "    <li> Now, let's try frequentist statistical testing. Would you use a one-sample or two-sample test? Why?\n",
    "    <li> In this situation, is it appropriate to use the $t$ or $z$ statistic? \n",
    "    <li> Now try using the other test. How is the result be different? Why?\n",
    "    </ul>\n",
    "<li>  Draw a small sample of size 10 from the data and repeat both frequentist tests. \n",
    "    <ul>\n",
    "    <li> Which one is the correct one to use? \n",
    "    <li> What do you notice? What does this tell you about the difference in application of the $t$ and $z$ statistic?\n",
    "    </ul>\n",
    "<li>  At what temperature should we consider someone's temperature to be \"abnormal\"?\n",
    "    <ul>\n",
    "    <li> As in the previous example, try calculating everything using the boostrap approach, as well as the frequentist approach.\n",
    "    <li> Start by computing the margin of error and confidence interval. When calculating the confidence interval, keep in mind that you should use the appropriate formula for one draw, and not N draws.\n",
    "    </ul>\n",
    "<li>  Is there a significant difference between males and females in normal temperature?\n",
    "    <ul>\n",
    "    <li> What testing approach did you use and why?\n",
    "    <li> Write a story with your conclusion in the context of the original problem.\n",
    "    </ul>\n",
    "</ol>\n",
    "\n",
    "You can include written notes in notebook cells using Markdown: \n",
    "   - In the control panel at the top, choose Cell > Cell Type > Markdown\n",
    "   - Markdown syntax: http://nestacms.com/docs/creating-content/markdown-cheat-sheet\n",
    "\n",
    "#### Resources\n",
    "\n",
    "+ Information and data sources: http://www.amstat.org/publications/jse/datasets/normtemp.txt, http://www.amstat.org/publications/jse/jse_data_archive.htm\n",
    "+ Markdown syntax: http://nestacms.com/docs/creating-content/markdown-cheat-sheet\n",
    "\n",
    "****"
   ]
  },
  {
   "cell_type": "code",
   "execution_count": 1,
   "metadata": {},
   "outputs": [],
   "source": [
    "import matplotlib.pyplot as plt\n",
    "import numpy as np\n",
    "import pandas as pd\n",
    "import seaborn as sns\n",
    "import scipy.stats as stats\n",
    "\n",
    "%matplotlib inline\n",
    "\n",
    "df = pd.read_csv('data/human_body_temperature.csv')"
   ]
  },
  {
   "cell_type": "markdown",
   "metadata": {},
   "source": [
    "# 1. Is the distribution of body temperatures normal?\n",
    " Although this is not a requirement for the Central Limit Theorem to hold \n",
    " (read the introduction on Wikipedia's page about the CLT carefully: \n",
    " https://en.wikipedia.org/wiki/Central_limit_theorem), it gives us some peace \n",
    " of mind that the population may also be normally distributed if we assume that \n",
    " this sample is representative of the population.\n",
    " Think about the way you're going to check for the normality of the distribution.\n",
    " Graphical methods are usually used first, but there are also other ways: \n",
    " https://en.wikipedia.org/wiki/Normality_test"
   ]
  },
  {
   "cell_type": "code",
   "execution_count": 2,
   "metadata": {},
   "outputs": [
    {
     "data": {
      "text/html": [
       "<div>\n",
       "<style scoped>\n",
       "    .dataframe tbody tr th:only-of-type {\n",
       "        vertical-align: middle;\n",
       "    }\n",
       "\n",
       "    .dataframe tbody tr th {\n",
       "        vertical-align: top;\n",
       "    }\n",
       "\n",
       "    .dataframe thead th {\n",
       "        text-align: right;\n",
       "    }\n",
       "</style>\n",
       "<table border=\"1\" class=\"dataframe\">\n",
       "  <thead>\n",
       "    <tr style=\"text-align: right;\">\n",
       "      <th></th>\n",
       "      <th>temperature</th>\n",
       "      <th>gender</th>\n",
       "      <th>heart_rate</th>\n",
       "    </tr>\n",
       "  </thead>\n",
       "  <tbody>\n",
       "    <tr>\n",
       "      <th>0</th>\n",
       "      <td>99.3</td>\n",
       "      <td>F</td>\n",
       "      <td>68.0</td>\n",
       "    </tr>\n",
       "    <tr>\n",
       "      <th>1</th>\n",
       "      <td>98.4</td>\n",
       "      <td>F</td>\n",
       "      <td>81.0</td>\n",
       "    </tr>\n",
       "    <tr>\n",
       "      <th>2</th>\n",
       "      <td>97.8</td>\n",
       "      <td>M</td>\n",
       "      <td>73.0</td>\n",
       "    </tr>\n",
       "    <tr>\n",
       "      <th>3</th>\n",
       "      <td>99.2</td>\n",
       "      <td>F</td>\n",
       "      <td>66.0</td>\n",
       "    </tr>\n",
       "    <tr>\n",
       "      <th>4</th>\n",
       "      <td>98.0</td>\n",
       "      <td>F</td>\n",
       "      <td>73.0</td>\n",
       "    </tr>\n",
       "  </tbody>\n",
       "</table>\n",
       "</div>"
      ],
      "text/plain": [
       "   temperature gender  heart_rate\n",
       "0         99.3      F        68.0\n",
       "1         98.4      F        81.0\n",
       "2         97.8      M        73.0\n",
       "3         99.2      F        66.0\n",
       "4         98.0      F        73.0"
      ]
     },
     "execution_count": 2,
     "metadata": {},
     "output_type": "execute_result"
    }
   ],
   "source": [
    "df.head()"
   ]
  },
  {
   "cell_type": "code",
   "execution_count": 3,
   "metadata": {},
   "outputs": [
    {
     "data": {
      "text/html": [
       "<div>\n",
       "<style scoped>\n",
       "    .dataframe tbody tr th:only-of-type {\n",
       "        vertical-align: middle;\n",
       "    }\n",
       "\n",
       "    .dataframe tbody tr th {\n",
       "        vertical-align: top;\n",
       "    }\n",
       "\n",
       "    .dataframe thead th {\n",
       "        text-align: right;\n",
       "    }\n",
       "</style>\n",
       "<table border=\"1\" class=\"dataframe\">\n",
       "  <thead>\n",
       "    <tr style=\"text-align: right;\">\n",
       "      <th></th>\n",
       "      <th>temperature</th>\n",
       "      <th>heart_rate</th>\n",
       "    </tr>\n",
       "  </thead>\n",
       "  <tbody>\n",
       "    <tr>\n",
       "      <th>count</th>\n",
       "      <td>130.000000</td>\n",
       "      <td>130.000000</td>\n",
       "    </tr>\n",
       "    <tr>\n",
       "      <th>mean</th>\n",
       "      <td>98.249231</td>\n",
       "      <td>73.761538</td>\n",
       "    </tr>\n",
       "    <tr>\n",
       "      <th>std</th>\n",
       "      <td>0.733183</td>\n",
       "      <td>7.062077</td>\n",
       "    </tr>\n",
       "    <tr>\n",
       "      <th>min</th>\n",
       "      <td>96.300000</td>\n",
       "      <td>57.000000</td>\n",
       "    </tr>\n",
       "    <tr>\n",
       "      <th>25%</th>\n",
       "      <td>97.800000</td>\n",
       "      <td>69.000000</td>\n",
       "    </tr>\n",
       "    <tr>\n",
       "      <th>50%</th>\n",
       "      <td>98.300000</td>\n",
       "      <td>74.000000</td>\n",
       "    </tr>\n",
       "    <tr>\n",
       "      <th>75%</th>\n",
       "      <td>98.700000</td>\n",
       "      <td>79.000000</td>\n",
       "    </tr>\n",
       "    <tr>\n",
       "      <th>max</th>\n",
       "      <td>100.800000</td>\n",
       "      <td>89.000000</td>\n",
       "    </tr>\n",
       "  </tbody>\n",
       "</table>\n",
       "</div>"
      ],
      "text/plain": [
       "       temperature  heart_rate\n",
       "count   130.000000  130.000000\n",
       "mean     98.249231   73.761538\n",
       "std       0.733183    7.062077\n",
       "min      96.300000   57.000000\n",
       "25%      97.800000   69.000000\n",
       "50%      98.300000   74.000000\n",
       "75%      98.700000   79.000000\n",
       "max     100.800000   89.000000"
      ]
     },
     "execution_count": 3,
     "metadata": {},
     "output_type": "execute_result"
    }
   ],
   "source": [
    "df.describe()"
   ]
  },
  {
   "cell_type": "markdown",
   "metadata": {},
   "source": [
    "In order to check the normality, I graph the data as a histogram of the data and overlay a Probability Density Function with the same mean and standard deviation as the data. As you can see, the data appears to be normal using this test."
   ]
  },
  {
   "cell_type": "code",
   "execution_count": 4,
   "metadata": {},
   "outputs": [
    {
     "data": {
      "image/png": "[encoded data removed]",
      "text/plain": [
       "<matplotlib.figure.Figure at 0x1ef1b432630>"
      ]
     },
     "metadata": {},
     "output_type": "display_data"
    }
   ],
   "source": [
    "sns.set()\n",
    "mu = df.temperature.mean()\n",
    "sigma = df.temperature.std()\n",
    "variance = sigma ** 2\n",
    "x = np.linspace(mu - 3*sigma, mu + 3*sigma, 100)\n",
    "_ = plt.plot(x, stats.norm.pdf(x, mu, sigma))\n",
    "_ = plt.hist(df.temperature, bins=11, normed=True)\n",
    "_ = plt.xlabel('Temperature (F)')\n",
    "_ = plt.ylabel('PDF')\n",
    "plt.show()"
   ]
  },
  {
   "cell_type": "markdown",
   "metadata": {},
   "source": [
    "# 2. Is the sample size large? Are the observations independent?\n",
    "### Remember that this is a condition for the Central Limit Theorem, and hence the statistical tests we are using, to apply.\n",
    "\n",
    "The sample size for this dataset is 130 which is well above the recommended n of 30, so the sample size is large enough. The observations are taken from separate individuals so the measurement of one data point does not influence the temperature of another. Therefore the observations are independent\n"
   ]
  },
  {
   "cell_type": "markdown",
   "metadata": {},
   "source": [
    "# 3. Is the true population mean really 98.6 degrees F? First, try a bootstrap hypothesis test. \n",
    "AFter performing boostrap hypothesis test, the p-value was 0 which means that the true population mean is not 98.6 degrees F."
   ]
  },
  {
   "cell_type": "code",
   "execution_count": 5,
   "metadata": {},
   "outputs": [
    {
     "data": {
      "image/png": "[encoded data removed]",
      "text/plain": [
       "<matplotlib.figure.Figure at 0x1ef1b432160>"
      ]
     },
     "metadata": {},
     "output_type": "display_data"
    }
   ],
   "source": [
    "temps = np.array(df.temperature)\n",
    "shift_temps = temps - temps.mean() + 98.6\n",
    "bstrap = np.empty(10)\n",
    "for i in range(10):\n",
    "    bs_samp = np.random.choice(shift_temps, 130)\n",
    "    bs_mean = bs_samp.mean()\n",
    "    bstrap[i] = bs_mean\n",
    "\n",
    "\n",
    "\n",
    "_ = plt.hist(bstrap, normed=True)\n",
    "plt.show()"
   ]
  },
  {
   "cell_type": "code",
   "execution_count": 6,
   "metadata": {},
   "outputs": [
    {
     "data": {
      "text/plain": [
       "98.950769230769239"
      ]
     },
     "execution_count": 6,
     "metadata": {},
     "output_type": "execute_result"
    }
   ],
   "source": [
    "lower_temp = temps.mean()\n",
    "upper_temp = 98.6 + (98.6 - temps.mean())\n",
    "p = (sum(bstrap > upper_temp) + sum(bstrap < lower_temp))/ len(bstrap)\n",
    "upper_temp"
   ]
  },
  {
   "cell_type": "markdown",
   "metadata": {},
   "source": [
    "# Now, let's try frequentist statistical testing. Would you use a one-sample or two-sample test? Why? \n",
    "We would use one-sample test because we are given a sample mean to compare to the true mean of the population. "
   ]
  },
  {
   "cell_type": "code",
   "execution_count": 7,
   "metadata": {},
   "outputs": [
    {
     "name": "stdout",
     "output_type": "stream",
     "text": [
      "98.24923076923078 0.7331831580389454 0.0643044168379\n"
     ]
    }
   ],
   "source": [
    "# Ho = population mean is 98.6\n",
    "# Ha = population mean is not 98.6\n",
    "\n",
    "pop_mean = 98.6\n",
    "sample_mean = df.temperature.mean()\n",
    "sample_std = df.temperature.std()\n",
    "sigma_x = sample_std / np.sqrt(len(df))\n",
    "print(sample_mean, sample_std, sigma_x)"
   ]
  },
  {
   "cell_type": "code",
   "execution_count": 8,
   "metadata": {},
   "outputs": [
    {
     "data": {
      "text/plain": [
       "5.4548232923640789"
      ]
     },
     "execution_count": 8,
     "metadata": {},
     "output_type": "execute_result"
    }
   ],
   "source": [
    "z = (pop_mean - sample_mean) / sigma_x\n",
    "z"
   ]
  },
  {
   "cell_type": "code",
   "execution_count": 9,
   "metadata": {},
   "outputs": [
    {
     "data": {
      "text/plain": [
       "4.9021570136531523e-08"
      ]
     },
     "execution_count": 9,
     "metadata": {},
     "output_type": "execute_result"
    }
   ],
   "source": [
    "p = (1 - stats.norm.cdf(z))*2\n",
    "p"
   ]
  },
  {
   "cell_type": "markdown",
   "metadata": {},
   "source": [
    "The p-value is very small, so the odds that the population mean is actually 98.6 is incredibly unlikely. Therefore it is safe to say that the population mean is not actually 98.6."
   ]
  },
  {
   "cell_type": "markdown",
   "metadata": {},
   "source": [
    "# In this situation, is it appropriate to use the  𝑡  or  𝑧  statistic?\n",
    "Since the sample size is large enough, a z statistic is most appropriate."
   ]
  },
  {
   "cell_type": "markdown",
   "metadata": {},
   "source": [
    "# Now try using the other test. How is the result be different? Why?\n",
    "The resulting p-value is still very small with this test, so we reject the null hypothesis. It is an order of magnitude larger than the z score, but since the sample size is large enough, the two tests are essentially equal."
   ]
  },
  {
   "cell_type": "code",
   "execution_count": 10,
   "metadata": {},
   "outputs": [
    {
     "data": {
      "text/plain": [
       "1.2053160214353653e-07"
      ]
     },
     "execution_count": 10,
     "metadata": {},
     "output_type": "execute_result"
    }
   ],
   "source": [
    "t = z\n",
    "deg_f = len(df) - 1\n",
    "p = 1 - stats.t.cdf(t, df=deg_f)\n",
    "p"
   ]
  },
  {
   "cell_type": "markdown",
   "metadata": {},
   "source": [
    "# 4. Draw a small sample of size 10 from the data and repeat both frequentist tests. Which one is the correct one to use? \n",
    "The t-test is the correct test to use because the sample size is less than 30.\n",
    "# What do you notice? What does this tell you about the difference in application of the  𝑡  and  𝑧  statistic?\n",
    "After running the tests multiple times, I see that the null hypothesis is accepted more frequently than with the large sample size which is understandable. The t-test rejects the null hypothesis more frequently than the z statistic when the sample size is smaller."
   ]
  },
  {
   "cell_type": "code",
   "execution_count": 11,
   "metadata": {},
   "outputs": [
    {
     "data": {
      "text/plain": [
       "array([ 97.8,  98.6,  98.9,  98.8,  98. ,  98.3,  97.1,  96.3,  98.1,  98.8])"
      ]
     },
     "execution_count": 11,
     "metadata": {},
     "output_type": "execute_result"
    }
   ],
   "source": [
    "sample = np.random.choice(df.temperature, 10)\n",
    "sample"
   ]
  },
  {
   "cell_type": "code",
   "execution_count": 12,
   "metadata": {},
   "outputs": [
    {
     "data": {
      "text/plain": [
       "2.1215280504927119"
      ]
     },
     "execution_count": 12,
     "metadata": {},
     "output_type": "execute_result"
    }
   ],
   "source": [
    "pop_mean = 98.6\n",
    "sample_mean = sample.mean()\n",
    "sample_std = sample.std()\n",
    "sample_sigma_x = sample_std / np.sqrt(len(sample))\n",
    "t = (pop_mean - sample_mean) / sample_sigma_x\n",
    "t"
   ]
  },
  {
   "cell_type": "code",
   "execution_count": 13,
   "metadata": {},
   "outputs": [
    {
     "data": {
      "text/plain": [
       "(0.031440642058913948, 0.033877389964199089)"
      ]
     },
     "execution_count": 13,
     "metadata": {},
     "output_type": "execute_result"
    }
   ],
   "source": [
    "pt = 1 - stats.t.cdf(t, len(sample) - 1)\n",
    "z = t\n",
    "pz = (1 - stats.norm.cdf(z))*2\n",
    "pt, pz"
   ]
  },
  {
   "cell_type": "code",
   "execution_count": 14,
   "metadata": {},
   "outputs": [
    {
     "data": {
      "text/plain": [
       "(0.13646286228451193, 0.25337005657280842)"
      ]
     },
     "execution_count": 14,
     "metadata": {},
     "output_type": "execute_result"
    }
   ],
   "source": [
    "# Run t-test and z-test many times to get an average p-value for each\n",
    "ts = np.empty(5000)\n",
    "zs = np.empty(5000)\n",
    "for i in range(5000):\n",
    "    sample = np.random.choice(df.temperature, 10)\n",
    "    pop_mean = 98.6\n",
    "    sample_mean = sample.mean()\n",
    "    sample_std = sample.std()\n",
    "    sample_sigma_x = sample_std / np.sqrt(len(sample))\n",
    "    t = (pop_mean - sample_mean) / sample_sigma_x\n",
    "    pt = 1 - stats.t.cdf(t, len(sample) - 1)\n",
    "    z = t\n",
    "    pz = (1 - stats.norm.cdf(z))*2\n",
    "    ts[i] = pt\n",
    "    zs[i] = pz\n",
    "ts.mean(), zs.mean()"
   ]
  },
  {
   "cell_type": "markdown",
   "metadata": {},
   "source": [
    "# 5. At what temperature should we consider someone's temperature to be \"abnormal\"? As in the previous example, try calculating everything using the boostrap approach, as well as the frequentist approach. Start by computing the margin of error and confidence interval. When calculating the confidence interval, keep in mind that you should use the appropriate formula for one draw, and not N draws.\n",
    "We would consider someone's temperture 'abnormal' if it lies more than 2 standard deviations from the mean."
   ]
  },
  {
   "cell_type": "code",
   "execution_count": 15,
   "metadata": {},
   "outputs": [
    {
     "name": "stdout",
     "output_type": "stream",
     "text": [
      "Confidence Interval =  [ 97.0225  99.9   ]\n",
      "Calculated Sample Mean =  98.24923076923078\n"
     ]
    }
   ],
   "source": [
    "# Bootstrap approach\n",
    "temp = df.temperature\n",
    "temp_mean = temp.mean()\n",
    "temp_std = temp.std()\n",
    "# Bootstrap Confidence Interval hypothesis testing\n",
    "bs_means = np.empty(1000)\n",
    "for i in range(1000):\n",
    "    bs_temps = np.random.choice(temp, len(temp))\n",
    "    bs_means[i] = bs_temps.mean()\n",
    "\n",
    "conf_int = np.percentile(bs_temps, [2.5, 97.5])\n",
    "print('Confidence Interval = ', conf_int)\n",
    "print('Calculated Sample Mean = ', temp_mean)\n"
   ]
  },
  {
   "cell_type": "code",
   "execution_count": 16,
   "metadata": {},
   "outputs": [
    {
     "data": {
      "text/plain": [
       "(98.377839602906562, 98.120621935554993, 12.60343410491174)"
      ]
     },
     "execution_count": 16,
     "metadata": {},
     "output_type": "execute_result"
    }
   ],
   "source": [
    "# Frequentist approach\n",
    "temp_se = temp_std / np.sqrt(len(temp))\n",
    "z0 = stats.norm.ppf(0.975)\n",
    "\n",
    "upper_value = temp_mean + 2*temp_se\n",
    "lower_value = temp_mean - 2*temp_se\n",
    "marg_err = z0 * temp_se\n",
    "upper_value, lower_value, marg_err*100"
   ]
  },
  {
   "cell_type": "markdown",
   "metadata": {},
   "source": [
    "# 6. Is there a significant difference between males and females in normal temperature? What testing approach did you use and why? Write a story with your conclusion in the context of the original problem.\n",
    "I began my analysis by performing some bootstrap replicate sampling. I took the dataset and randomly resorted the data into two groups irrespective of gender. According to the Central Limit Theorem, with more trials, the means of each trial will have a normal distribution. I repeated the simulation 100 times and graphed the results as a histogram and then a pdf function using the simulated data. I marked the bootstrap mean difference and the sample mean difference. The mean of this bootstrap test was very close to 0."
   ]
  },
  {
   "cell_type": "code",
   "execution_count": 17,
   "metadata": {},
   "outputs": [
    {
     "data": {
      "image/png": "[encoded data removed]",
      "text/plain": [
       "<matplotlib.figure.Figure at 0x1ef1b7e67b8>"
      ]
     },
     "metadata": {},
     "output_type": "display_data"
    }
   ],
   "source": [
    "females = df[df['gender'] == 'F']\n",
    "males = df[df['gender'] == 'M']\n",
    "temps = np.array(df.temperature)\n",
    "mean_diff = females.temperature.mean()-males.temperature.mean()\n",
    "diffs = np.empty(100)\n",
    "for i in range(100):\n",
    "    np.random.shuffle(temps)\n",
    "    sample1 = temps[:65]\n",
    "    sample2 = temps[65:]\n",
    "    diffs[i] = sample1.mean()-sample2.mean()\n",
    "\n",
    "bs_mean = diffs.mean()\n",
    "bs_std = diffs.std()\n",
    "bs_var = bs_std**2\n",
    "bs_se = bs_std / np.sqrt(len(diffs))\n",
    "x = np.linspace(bs_mean - 3*bs_std, bs_mean + 3*bs_std, 100)\n",
    "\n",
    "_ = plt.hist(diffs, bins=10, normed=True)\n",
    "_ = plt.plot(x, stats.norm.pdf(x, bs_mean, bs_std))\n",
    "_ = plt.axvline(mean_diff, color='r', label='Sample Mean')\n",
    "_ = plt.axvline(bs_mean, color='y', label='Bootstrap Mean')\n",
    "_ = plt.legend()\n",
    "plt.show()"
   ]
  },
  {
   "cell_type": "markdown",
   "metadata": {},
   "source": [
    "In order to determine if the difference in temperatures was significantly different between males and females, I used a frequentist approach with the following hypotheses:\n",
    "Null Hypothesis = there is no difference in the mean temperature between males and females\n",
    "Alternate Hypothesis = there IS a difference in the mean temperatures of males and females\n",
    "\n",
    "Since the sample size was large enough, I used a z-test to determine the p-value for having a difference as extreme as the observed sample value. The value of alpha was set to 0.05.\n"
   ]
  },
  {
   "cell_type": "code",
   "execution_count": 18,
   "metadata": {},
   "outputs": [
    {
     "name": "stdout",
     "output_type": "stream",
     "text": [
      "0.289230769230727 1.02031056735 0.00784854282577\n"
     ]
    }
   ],
   "source": [
    "pop_mean = 0\n",
    "sample_mean = females.temperature.mean() - males.temperature.mean()\n",
    "sample_var = (females.temperature.std()**2) + (males.temperature.std()**2)\n",
    "sample_std = np.sqrt(sample_var)\n",
    "sigma_x = sample_std / len(df)\n",
    "print(sample_mean, sample_std, sigma_x)"
   ]
  },
  {
   "cell_type": "code",
   "execution_count": 19,
   "metadata": {},
   "outputs": [
    {
     "data": {
      "text/plain": [
       "-36.851524627104197"
      ]
     },
     "execution_count": 19,
     "metadata": {},
     "output_type": "execute_result"
    }
   ],
   "source": [
    "z = (pop_mean - sample_mean) / sigma_x\n",
    "z"
   ]
  },
  {
   "cell_type": "code",
   "execution_count": 20,
   "metadata": {},
   "outputs": [
    {
     "data": {
      "text/plain": [
       "1.3823271450400873e-297"
      ]
     },
     "execution_count": 20,
     "metadata": {},
     "output_type": "execute_result"
    }
   ],
   "source": [
    "p = stats.norm.cdf(z)\n",
    "p"
   ]
  },
  {
   "cell_type": "markdown",
   "metadata": {},
   "source": [
    "The p-value of the z-test was almost 0 which is below my predetermined alpha value of 0.05 meaning that I rejected the null hypothesis. I can conclude that there is a significant difference in body temperatures between males and females"
   ]
  }
 ],
 "metadata": {
  "kernelspec": {
   "display_name": "Python 3",
   "language": "python",
   "name": "python3"
  },
  "language_info": {
   "codemirror_mode": {
    "name": "ipython",
    "version": 3
   },
   "file_extension": ".py",
   "mimetype": "text/x-python",
   "name": "python",
   "nbconvert_exporter": "python",
   "pygments_lexer": "ipython3",
   "version": "3.6.7"
  }
 },
 "nbformat": 4,
 "nbformat_minor": 1
}
